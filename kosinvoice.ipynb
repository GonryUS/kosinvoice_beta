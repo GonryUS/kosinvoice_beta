{
  "nbformat": 4,
  "nbformat_minor": 0,
  "metadata": {
    "colab": {
      "name": "kosinvoice.ipynb",
      "provenance": []
    },
    "kernelspec": {
      "name": "python3",
      "display_name": "Python 3"
    },
    "language_info": {
      "name": "python"
    }
  },
  "cells": [
    {
      "cell_type": "code",
      "metadata": {
        "id": "ooTypYO0wHTj"
      },
      "source": [
        "import streamlit as st\n",
        "import pandas as pd\n",
        "\n",
        "\n",
        "def pega_fatura(arquivo):\n",
        "    try:\n",
        "        path=pd.read_excel(arquivo)\n",
        "    except Exception as e:\n",
        "        path=pd.read_csv(arquivo)\n",
        "    return path\n",
        "\n",
        "st.set_page_config(\n",
        "    page_title=\"KOS INVOICE\",\n",
        "    page_icon=\"🥳\",\n",
        "    initial_sidebar_state=\"expanded\",\n",
        ")\n",
        "st.title(\n",
        "    ''' \n",
        "    ***KOS INVOICE*** \n",
        "    ''')\n",
        "st.header(\" Fatura \")\n",
        "\n",
        "upload=st.file_uploader(label='Clique aqui para inserir sua fatura', type=['csv','xlsx'])\n",
        "if upload :\n",
        "    fat=pega_fatura(upload)\n",
        "    fat_val=pd.DataFrame(fat,columns=['Unnamed: 12','Min','Val_S_Imp'])\n",
        "    fat_val.columns=['Plano','Minutos','Valor'] \n",
        "    fat_val['Tarifa']=fat_val.Valor/fat_val.Minutos.values\n",
        "    tax=pd.DataFrame(fat_val,columns=['Plano','Tarifa'])\n",
        "    st.dataframe(fat.style.set_precision(2))\n",
        "    st.write(\" *Tarifa por plano* \")\n",
        "    st.dataframe(tax.groupby(['Plano']).mean().style.set_precision(2))\n",
        "    st.write(\" *Total de minutos* \")\n",
        "    st.dataframe(fat_val.groupby(['Plano']).agg({'Minuto':'sum','Valor':'sum','Tarifa':'mean'}).style.set_precision(2))\n",
        "    st.write(\" *Valor médio por minuto* \")\n",
        "    st.dataframe(fat_val.groupby(['Plano']).mean().style.set_precision(2))\n",
        "    st.area_chart(tax)\n",
        "else :\n",
        "    st.write(\" *Insira sua fatura* \")\n"
      ],
      "execution_count": null,
      "outputs": []
    }
  ]
}